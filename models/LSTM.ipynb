{
  "cells": [
    {
      "cell_type": "code",
      "execution_count": 65,
      "metadata": {
        "id": "6BK4A3LH79oS"
      },
      "outputs": [],
      "source": [
        "import pandas as pd\n",
        "import numpy as np\n",
        "from sklearn.model_selection import train_test_split\n",
        "from sklearn.preprocessing import MinMaxScaler, LabelEncoder\n",
        "from sklearn.metrics import mean_squared_error, r2_score\n",
        "import matplotlib.pyplot as plt\n",
        "from tensorflow.keras.models import Sequential\n",
        "from tensorflow.keras.layers import LSTM, Dense\n"
      ]
    },
    {
      "cell_type": "code",
      "execution_count": 66,
      "metadata": {
        "colab": {
          "base_uri": "https://localhost:8080/",
          "height": 423
        },
        "id": "3pZhB2twC85e",
        "outputId": "c83bb9d2-582d-4aa9-c3f9-5d37b6f59b3a"
      },
      "outputs": [
        {
          "output_type": "execute_result",
          "data": {
            "text/plain": [
              "         model  year  price transmission  mileage fuelType  tax   mpg  \\\n",
              "0       Fiesta  2017  12000    Automatic    15944   Petrol  150  57.7   \n",
              "1        Focus  2018  14000       Manual     9083   Petrol  150  57.7   \n",
              "2        Focus  2017  13000       Manual    12456   Petrol  150  57.7   \n",
              "3       Fiesta  2019  17500       Manual    10460   Petrol  145  40.3   \n",
              "4       Fiesta  2019  16500    Automatic     1482   Petrol  145  48.7   \n",
              "...        ...   ...    ...          ...      ...      ...  ...   ...   \n",
              "74995      BMW  2016  12998       Manual    20565   Diesel    0  74.3   \n",
              "74996   toyota  2017   6995       Manual    20564   Petrol  150  68.9   \n",
              "74997     Ford  2018  10990       Manual    20563   Petrol  145  65.7   \n",
              "74998     Ford  2017   7999       Manual    28907   Petrol  125  54.3   \n",
              "74999     Ford  2015  13583       Manual    21718   Diesel   20  67.3   \n",
              "\n",
              "       engineSize  \n",
              "0             1.0  \n",
              "1             1.0  \n",
              "2             1.0  \n",
              "3             1.5  \n",
              "4             1.0  \n",
              "...           ...  \n",
              "74995         1.5  \n",
              "74996         1.0  \n",
              "74997         1.0  \n",
              "74998         1.2  \n",
              "74999         2.0  \n",
              "\n",
              "[75000 rows x 9 columns]"
            ],
            "text/html": [
              "\n",
              "  <div id=\"df-5e9af8d8-de24-4a06-863a-5ba5fa3fa06e\">\n",
              "    <div class=\"colab-df-container\">\n",
              "      <div>\n",
              "<style scoped>\n",
              "    .dataframe tbody tr th:only-of-type {\n",
              "        vertical-align: middle;\n",
              "    }\n",
              "\n",
              "    .dataframe tbody tr th {\n",
              "        vertical-align: top;\n",
              "    }\n",
              "\n",
              "    .dataframe thead th {\n",
              "        text-align: right;\n",
              "    }\n",
              "</style>\n",
              "<table border=\"1\" class=\"dataframe\">\n",
              "  <thead>\n",
              "    <tr style=\"text-align: right;\">\n",
              "      <th></th>\n",
              "      <th>model</th>\n",
              "      <th>year</th>\n",
              "      <th>price</th>\n",
              "      <th>transmission</th>\n",
              "      <th>mileage</th>\n",
              "      <th>fuelType</th>\n",
              "      <th>tax</th>\n",
              "      <th>mpg</th>\n",
              "      <th>engineSize</th>\n",
              "    </tr>\n",
              "  </thead>\n",
              "  <tbody>\n",
              "    <tr>\n",
              "      <th>0</th>\n",
              "      <td>Fiesta</td>\n",
              "      <td>2017</td>\n",
              "      <td>12000</td>\n",
              "      <td>Automatic</td>\n",
              "      <td>15944</td>\n",
              "      <td>Petrol</td>\n",
              "      <td>150</td>\n",
              "      <td>57.7</td>\n",
              "      <td>1.0</td>\n",
              "    </tr>\n",
              "    <tr>\n",
              "      <th>1</th>\n",
              "      <td>Focus</td>\n",
              "      <td>2018</td>\n",
              "      <td>14000</td>\n",
              "      <td>Manual</td>\n",
              "      <td>9083</td>\n",
              "      <td>Petrol</td>\n",
              "      <td>150</td>\n",
              "      <td>57.7</td>\n",
              "      <td>1.0</td>\n",
              "    </tr>\n",
              "    <tr>\n",
              "      <th>2</th>\n",
              "      <td>Focus</td>\n",
              "      <td>2017</td>\n",
              "      <td>13000</td>\n",
              "      <td>Manual</td>\n",
              "      <td>12456</td>\n",
              "      <td>Petrol</td>\n",
              "      <td>150</td>\n",
              "      <td>57.7</td>\n",
              "      <td>1.0</td>\n",
              "    </tr>\n",
              "    <tr>\n",
              "      <th>3</th>\n",
              "      <td>Fiesta</td>\n",
              "      <td>2019</td>\n",
              "      <td>17500</td>\n",
              "      <td>Manual</td>\n",
              "      <td>10460</td>\n",
              "      <td>Petrol</td>\n",
              "      <td>145</td>\n",
              "      <td>40.3</td>\n",
              "      <td>1.5</td>\n",
              "    </tr>\n",
              "    <tr>\n",
              "      <th>4</th>\n",
              "      <td>Fiesta</td>\n",
              "      <td>2019</td>\n",
              "      <td>16500</td>\n",
              "      <td>Automatic</td>\n",
              "      <td>1482</td>\n",
              "      <td>Petrol</td>\n",
              "      <td>145</td>\n",
              "      <td>48.7</td>\n",
              "      <td>1.0</td>\n",
              "    </tr>\n",
              "    <tr>\n",
              "      <th>...</th>\n",
              "      <td>...</td>\n",
              "      <td>...</td>\n",
              "      <td>...</td>\n",
              "      <td>...</td>\n",
              "      <td>...</td>\n",
              "      <td>...</td>\n",
              "      <td>...</td>\n",
              "      <td>...</td>\n",
              "      <td>...</td>\n",
              "    </tr>\n",
              "    <tr>\n",
              "      <th>74995</th>\n",
              "      <td>BMW</td>\n",
              "      <td>2016</td>\n",
              "      <td>12998</td>\n",
              "      <td>Manual</td>\n",
              "      <td>20565</td>\n",
              "      <td>Diesel</td>\n",
              "      <td>0</td>\n",
              "      <td>74.3</td>\n",
              "      <td>1.5</td>\n",
              "    </tr>\n",
              "    <tr>\n",
              "      <th>74996</th>\n",
              "      <td>toyota</td>\n",
              "      <td>2017</td>\n",
              "      <td>6995</td>\n",
              "      <td>Manual</td>\n",
              "      <td>20564</td>\n",
              "      <td>Petrol</td>\n",
              "      <td>150</td>\n",
              "      <td>68.9</td>\n",
              "      <td>1.0</td>\n",
              "    </tr>\n",
              "    <tr>\n",
              "      <th>74997</th>\n",
              "      <td>Ford</td>\n",
              "      <td>2018</td>\n",
              "      <td>10990</td>\n",
              "      <td>Manual</td>\n",
              "      <td>20563</td>\n",
              "      <td>Petrol</td>\n",
              "      <td>145</td>\n",
              "      <td>65.7</td>\n",
              "      <td>1.0</td>\n",
              "    </tr>\n",
              "    <tr>\n",
              "      <th>74998</th>\n",
              "      <td>Ford</td>\n",
              "      <td>2017</td>\n",
              "      <td>7999</td>\n",
              "      <td>Manual</td>\n",
              "      <td>28907</td>\n",
              "      <td>Petrol</td>\n",
              "      <td>125</td>\n",
              "      <td>54.3</td>\n",
              "      <td>1.2</td>\n",
              "    </tr>\n",
              "    <tr>\n",
              "      <th>74999</th>\n",
              "      <td>Ford</td>\n",
              "      <td>2015</td>\n",
              "      <td>13583</td>\n",
              "      <td>Manual</td>\n",
              "      <td>21718</td>\n",
              "      <td>Diesel</td>\n",
              "      <td>20</td>\n",
              "      <td>67.3</td>\n",
              "      <td>2.0</td>\n",
              "    </tr>\n",
              "  </tbody>\n",
              "</table>\n",
              "<p>75000 rows × 9 columns</p>\n",
              "</div>\n",
              "      <button class=\"colab-df-convert\" onclick=\"convertToInteractive('df-5e9af8d8-de24-4a06-863a-5ba5fa3fa06e')\"\n",
              "              title=\"Convert this dataframe to an interactive table.\"\n",
              "              style=\"display:none;\">\n",
              "        \n",
              "  <svg xmlns=\"http://www.w3.org/2000/svg\" height=\"24px\"viewBox=\"0 0 24 24\"\n",
              "       width=\"24px\">\n",
              "    <path d=\"M0 0h24v24H0V0z\" fill=\"none\"/>\n",
              "    <path d=\"M18.56 5.44l.94 2.06.94-2.06 2.06-.94-2.06-.94-.94-2.06-.94 2.06-2.06.94zm-11 1L8.5 8.5l.94-2.06 2.06-.94-2.06-.94L8.5 2.5l-.94 2.06-2.06.94zm10 10l.94 2.06.94-2.06 2.06-.94-2.06-.94-.94-2.06-.94 2.06-2.06.94z\"/><path d=\"M17.41 7.96l-1.37-1.37c-.4-.4-.92-.59-1.43-.59-.52 0-1.04.2-1.43.59L10.3 9.45l-7.72 7.72c-.78.78-.78 2.05 0 2.83L4 21.41c.39.39.9.59 1.41.59.51 0 1.02-.2 1.41-.59l7.78-7.78 2.81-2.81c.8-.78.8-2.07 0-2.86zM5.41 20L4 18.59l7.72-7.72 1.47 1.35L5.41 20z\"/>\n",
              "  </svg>\n",
              "      </button>\n",
              "      \n",
              "  <style>\n",
              "    .colab-df-container {\n",
              "      display:flex;\n",
              "      flex-wrap:wrap;\n",
              "      gap: 12px;\n",
              "    }\n",
              "\n",
              "    .colab-df-convert {\n",
              "      background-color: #E8F0FE;\n",
              "      border: none;\n",
              "      border-radius: 50%;\n",
              "      cursor: pointer;\n",
              "      display: none;\n",
              "      fill: #1967D2;\n",
              "      height: 32px;\n",
              "      padding: 0 0 0 0;\n",
              "      width: 32px;\n",
              "    }\n",
              "\n",
              "    .colab-df-convert:hover {\n",
              "      background-color: #E2EBFA;\n",
              "      box-shadow: 0px 1px 2px rgba(60, 64, 67, 0.3), 0px 1px 3px 1px rgba(60, 64, 67, 0.15);\n",
              "      fill: #174EA6;\n",
              "    }\n",
              "\n",
              "    [theme=dark] .colab-df-convert {\n",
              "      background-color: #3B4455;\n",
              "      fill: #D2E3FC;\n",
              "    }\n",
              "\n",
              "    [theme=dark] .colab-df-convert:hover {\n",
              "      background-color: #434B5C;\n",
              "      box-shadow: 0px 1px 3px 1px rgba(0, 0, 0, 0.15);\n",
              "      filter: drop-shadow(0px 1px 2px rgba(0, 0, 0, 0.3));\n",
              "      fill: #FFFFFF;\n",
              "    }\n",
              "  </style>\n",
              "\n",
              "      <script>\n",
              "        const buttonEl =\n",
              "          document.querySelector('#df-5e9af8d8-de24-4a06-863a-5ba5fa3fa06e button.colab-df-convert');\n",
              "        buttonEl.style.display =\n",
              "          google.colab.kernel.accessAllowed ? 'block' : 'none';\n",
              "\n",
              "        async function convertToInteractive(key) {\n",
              "          const element = document.querySelector('#df-5e9af8d8-de24-4a06-863a-5ba5fa3fa06e');\n",
              "          const dataTable =\n",
              "            await google.colab.kernel.invokeFunction('convertToInteractive',\n",
              "                                                     [key], {});\n",
              "          if (!dataTable) return;\n",
              "\n",
              "          const docLinkHtml = 'Like what you see? Visit the ' +\n",
              "            '<a target=\"_blank\" href=https://colab.research.google.com/notebooks/data_table.ipynb>data table notebook</a>'\n",
              "            + ' to learn more about interactive tables.';\n",
              "          element.innerHTML = '';\n",
              "          dataTable['output_type'] = 'display_data';\n",
              "          await google.colab.output.renderOutput(dataTable, element);\n",
              "          const docLink = document.createElement('div');\n",
              "          docLink.innerHTML = docLinkHtml;\n",
              "          element.appendChild(docLink);\n",
              "        }\n",
              "      </script>\n",
              "    </div>\n",
              "  </div>\n",
              "  "
            ]
          },
          "metadata": {},
          "execution_count": 66
        }
      ],
      "source": [
        "# Read the dataset\n",
        "car_data = pd.read_csv('Dataset.csv')\n",
        "car_data"
      ]
    },
    {
      "cell_type": "code",
      "source": [
        "# Select the features and target variable\n",
        "features =['model', 'year', 'transmission', 'mileage', 'fuelType', 'tax', 'mpg', 'engineSize']\n",
        "target = 'price'"
      ],
      "metadata": {
        "id": "mNRokDSVYUMR"
      },
      "execution_count": 67,
      "outputs": []
    },
    {
      "cell_type": "code",
      "source": [
        "# Create a copy of the DataFrame\n",
        "df = car_data[features + [target]].copy()"
      ],
      "metadata": {
        "id": "GO0aNjY1txI4"
      },
      "execution_count": 68,
      "outputs": []
    },
    {
      "cell_type": "code",
      "source": [
        "# Perform label encoding on categorical columns\n",
        "label_encoder = LabelEncoder()\n",
        "for column in ['model', 'transmission', 'fuelType']:\n",
        "    df[column] = label_encoder.fit_transform(df[column])"
      ],
      "metadata": {
        "id": "B7gLJodWt0Lt"
      },
      "execution_count": 69,
      "outputs": []
    },
    {
      "cell_type": "code",
      "source": [
        "# Split the data into training and testing sets\n",
        "X_train, X_test, y_train, y_test = train_test_split(df[features], df[target], test_size=0.05, random_state=42)"
      ],
      "metadata": {
        "id": "N5I9jPERZWso"
      },
      "execution_count": 70,
      "outputs": []
    },
    {
      "cell_type": "code",
      "source": [
        "# Scale the features and target variables\n",
        "scaler = MinMaxScaler()\n",
        "X_train_scaled = scaler.fit_transform(X_train)\n",
        "X_test_scaled = scaler.transform(X_test)\n",
        "y_train_scaled = scaler.fit_transform(y_train.values.reshape(-1, 1))"
      ],
      "metadata": {
        "id": "P9Fb_y-cZS5x"
      },
      "execution_count": 71,
      "outputs": []
    },
    {
      "cell_type": "code",
      "source": [
        "# Reshape the input data for LSTM\n",
        "X_train_reshaped = X_train_scaled.reshape((X_train_scaled.shape[0], 1, X_train_scaled.shape[1]))\n",
        "X_test_reshaped = X_test_scaled.reshape((X_test_scaled.shape[0], 1, X_test_scaled.shape[1]))"
      ],
      "metadata": {
        "id": "QDZRCcYTZOrx"
      },
      "execution_count": 72,
      "outputs": []
    },
    {
      "cell_type": "code",
      "source": [
        "# Create the LSTM model\n",
        "model = Sequential()\n",
        "model.add(LSTM(64, input_shape=(1, len(features))))\n",
        "model.add(Dense(1))"
      ],
      "metadata": {
        "id": "61ui6T4QZMQm"
      },
      "execution_count": 73,
      "outputs": []
    },
    {
      "cell_type": "code",
      "source": [
        "# Compile the model\n",
        "model.compile(optimizer='adam', loss='mean_squared_error')"
      ],
      "metadata": {
        "id": "tTCIJQV1ZJC4"
      },
      "execution_count": 74,
      "outputs": []
    },
    {
      "cell_type": "code",
      "source": [
        "# Train the model\n",
        "model.fit(X_train_reshaped, y_train, epochs=50, batch_size=32, verbose=1)"
      ],
      "metadata": {
        "colab": {
          "base_uri": "https://localhost:8080/"
        },
        "id": "rUnh21MWZGm1",
        "outputId": "4c361ee3-0feb-4cdb-f7d4-5fc1a7a7efed"
      },
      "execution_count": 75,
      "outputs": [
        {
          "output_type": "stream",
          "name": "stdout",
          "text": [
            "Epoch 1/50\n",
            "2227/2227 [==============================] - 8s 2ms/step - loss: 332058912.0000\n",
            "Epoch 2/50\n",
            "2227/2227 [==============================] - 6s 3ms/step - loss: 328239744.0000\n",
            "Epoch 3/50\n",
            "2227/2227 [==============================] - 6s 3ms/step - loss: 324782976.0000\n",
            "Epoch 4/50\n",
            "2227/2227 [==============================] - 6s 3ms/step - loss: 321380928.0000\n",
            "Epoch 5/50\n",
            "2227/2227 [==============================] - 6s 3ms/step - loss: 318007520.0000\n",
            "Epoch 6/50\n",
            "2227/2227 [==============================] - 6s 3ms/step - loss: 314660064.0000\n",
            "Epoch 7/50\n",
            "2227/2227 [==============================] - 7s 3ms/step - loss: 311336992.0000\n",
            "Epoch 8/50\n",
            "2227/2227 [==============================] - 6s 3ms/step - loss: 308037440.0000\n",
            "Epoch 9/50\n",
            "2227/2227 [==============================] - 7s 3ms/step - loss: 304761312.0000\n",
            "Epoch 10/50\n",
            "2227/2227 [==============================] - 6s 3ms/step - loss: 301512256.0000\n",
            "Epoch 11/50\n",
            "2227/2227 [==============================] - 7s 3ms/step - loss: 298286208.0000\n",
            "Epoch 12/50\n",
            "2227/2227 [==============================] - 6s 3ms/step - loss: 295084960.0000\n",
            "Epoch 13/50\n",
            "2227/2227 [==============================] - 7s 3ms/step - loss: 291910272.0000\n",
            "Epoch 14/50\n",
            "2227/2227 [==============================] - 6s 3ms/step - loss: 288760512.0000\n",
            "Epoch 15/50\n",
            "2227/2227 [==============================] - 7s 3ms/step - loss: 285632128.0000\n",
            "Epoch 16/50\n",
            "2227/2227 [==============================] - 6s 3ms/step - loss: 282528032.0000\n",
            "Epoch 17/50\n",
            "2227/2227 [==============================] - 7s 3ms/step - loss: 279450176.0000\n",
            "Epoch 18/50\n",
            "2227/2227 [==============================] - 6s 2ms/step - loss: 276393728.0000\n",
            "Epoch 19/50\n",
            "2227/2227 [==============================] - 7s 3ms/step - loss: 273365024.0000\n",
            "Epoch 20/50\n",
            "2227/2227 [==============================] - 7s 3ms/step - loss: 270360448.0000\n",
            "Epoch 21/50\n",
            "2227/2227 [==============================] - 7s 3ms/step - loss: 267378880.0000\n",
            "Epoch 22/50\n",
            "2227/2227 [==============================] - 6s 2ms/step - loss: 264423200.0000\n",
            "Epoch 23/50\n",
            "2227/2227 [==============================] - 7s 3ms/step - loss: 261490448.0000\n",
            "Epoch 24/50\n",
            "2227/2227 [==============================] - 6s 3ms/step - loss: 258583344.0000\n",
            "Epoch 25/50\n",
            "2227/2227 [==============================] - 7s 3ms/step - loss: 255699520.0000\n",
            "Epoch 26/50\n",
            "2227/2227 [==============================] - 6s 3ms/step - loss: 252843744.0000\n",
            "Epoch 27/50\n",
            "2227/2227 [==============================] - 7s 3ms/step - loss: 250010336.0000\n",
            "Epoch 28/50\n",
            "2227/2227 [==============================] - 6s 3ms/step - loss: 247200880.0000\n",
            "Epoch 29/50\n",
            "2227/2227 [==============================] - 7s 3ms/step - loss: 244412560.0000\n",
            "Epoch 30/50\n",
            "2227/2227 [==============================] - 6s 3ms/step - loss: 241650000.0000\n",
            "Epoch 31/50\n",
            "2227/2227 [==============================] - 7s 3ms/step - loss: 238912368.0000\n",
            "Epoch 32/50\n",
            "2227/2227 [==============================] - 5s 2ms/step - loss: 236203024.0000\n",
            "Epoch 33/50\n",
            "2227/2227 [==============================] - 6s 3ms/step - loss: 233514336.0000\n",
            "Epoch 34/50\n",
            "2227/2227 [==============================] - 6s 3ms/step - loss: 230850608.0000\n",
            "Epoch 35/50\n",
            "2227/2227 [==============================] - 6s 3ms/step - loss: 228211776.0000\n",
            "Epoch 36/50\n",
            "2227/2227 [==============================] - 6s 3ms/step - loss: 225599808.0000\n",
            "Epoch 37/50\n",
            "2227/2227 [==============================] - 6s 3ms/step - loss: 223007648.0000\n",
            "Epoch 38/50\n",
            "2227/2227 [==============================] - 6s 3ms/step - loss: 220442368.0000\n",
            "Epoch 39/50\n",
            "2227/2227 [==============================] - 6s 3ms/step - loss: 217904512.0000\n",
            "Epoch 40/50\n",
            "2227/2227 [==============================] - 7s 3ms/step - loss: 215388128.0000\n",
            "Epoch 41/50\n",
            "2227/2227 [==============================] - 6s 3ms/step - loss: 212897936.0000\n",
            "Epoch 42/50\n",
            "2227/2227 [==============================] - 7s 3ms/step - loss: 210427936.0000\n",
            "Epoch 43/50\n",
            "2227/2227 [==============================] - 6s 3ms/step - loss: 207984960.0000\n",
            "Epoch 44/50\n",
            "2227/2227 [==============================] - 7s 3ms/step - loss: 205565632.0000\n",
            "Epoch 45/50\n",
            "2227/2227 [==============================] - 6s 3ms/step - loss: 203173776.0000\n",
            "Epoch 46/50\n",
            "2227/2227 [==============================] - 7s 3ms/step - loss: 200805712.0000\n",
            "Epoch 47/50\n",
            "2227/2227 [==============================] - 6s 3ms/step - loss: 198460240.0000\n",
            "Epoch 48/50\n",
            "2227/2227 [==============================] - 7s 3ms/step - loss: 196138928.0000\n",
            "Epoch 49/50\n",
            "2227/2227 [==============================] - 6s 3ms/step - loss: 193838448.0000\n",
            "Epoch 50/50\n",
            "2227/2227 [==============================] - 7s 3ms/step - loss: 191566000.0000\n"
          ]
        },
        {
          "output_type": "execute_result",
          "data": {
            "text/plain": [
              "<keras.callbacks.History at 0x7f7bc0118f40>"
            ]
          },
          "metadata": {},
          "execution_count": 75
        }
      ]
    },
    {
      "cell_type": "code",
      "source": [
        "# Make predictions on the test set\n",
        "y_pred_scaled = model.predict(X_test_reshaped)"
      ],
      "metadata": {
        "colab": {
          "base_uri": "https://localhost:8080/"
        },
        "id": "OEkdNKpyZDpN",
        "outputId": "af228e6c-3958-4c75-98c8-440bb6cf864c"
      },
      "execution_count": 76,
      "outputs": [
        {
          "output_type": "stream",
          "name": "stdout",
          "text": [
            "118/118 [==============================] - 1s 1ms/step\n"
          ]
        }
      ]
    },
    {
      "cell_type": "code",
      "source": [
        "# Inverse scale the predictions and actual prices\n",
        "y_pred_inverse = scaler.inverse_transform(y_pred_scaled).flatten()\n",
        "y_test_inverse = scaler.inverse_transform(y_test.values.reshape(-1, 1)).flatten()"
      ],
      "metadata": {
        "id": "ppaYT3nlZBL0"
      },
      "execution_count": 77,
      "outputs": []
    },
    {
      "cell_type": "code",
      "source": [
        "# Evaluate the model\n",
        "mse = mean_squared_error(y_test_inverse, y_pred_inverse)\n",
        "rmse = np.sqrt(mse)\n",
        "r2 = r2_score(y_test_inverse, y_pred_inverse)\n",
        "\n",
        "print(f\"Mean Squared Error: {mse:.2f}\")\n",
        "print(f\"Root Mean Squared Error: {rmse:.2f}\")\n",
        "print(f\"R^2 Score: {r2:.2f}\")"
      ],
      "metadata": {
        "id": "D6vTuyfFY_Hv",
        "colab": {
          "base_uri": "https://localhost:8080/"
        },
        "outputId": "85a19845-5d2c-48ec-85e4-0356dbc5b42e"
      },
      "execution_count": 78,
      "outputs": [
        {
          "output_type": "stream",
          "name": "stdout",
          "text": [
            "Mean Squared Error: 4089103489194686464.00\n",
            "Root Mean Squared Error: 2022153181.44\n",
            "R^2 Score: -1.25\n"
          ]
        }
      ]
    },
    {
      "cell_type": "code",
      "source": [
        "# Plotting the real price vs predicted price\n",
        "plt.scatter(y_test_inverse, y_pred_inverse)\n",
        "plt.xlabel('Real Price')\n",
        "plt.ylabel('Predicted Price')\n",
        "plt.title('Real Price vs Predicted Price')\n",
        "plt.show()"
      ],
      "metadata": {
        "id": "RY-cYxMxY8yk",
        "colab": {
          "base_uri": "https://localhost:8080/",
          "height": 472
        },
        "outputId": "7b1df2b8-ef27-44fe-c667-8d3ba482a382"
      },
      "execution_count": 80,
      "outputs": [
        {
          "output_type": "display_data",
          "data": {
            "text/plain": [
              "<Figure size 640x480 with 1 Axes>"
            ],
            "image/png": "[encoded data removed]"
          },
          "metadata": {}
        }
      ]
    }
  ],
  "metadata": {
    "colab": {
      "provenance": []
    },
    "kernelspec": {
      "display_name": "Python 3",
      "name": "python3"
    },
    "language_info": {
      "name": "python"
    }
  },
  "nbformat": 4,
  "nbformat_minor": 0
}