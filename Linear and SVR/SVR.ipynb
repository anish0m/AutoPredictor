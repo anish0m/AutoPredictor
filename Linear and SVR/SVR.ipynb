{
  "nbformat": 4,
  "nbformat_minor": 0,
  "metadata": {
    "colab": {
      "provenance": []
    },
    "kernelspec": {
      "name": "python3",
      "display_name": "Python 3"
    },
    "language_info": {
      "name": "python"
    }
  },
  "cells": [
    {
      "cell_type": "code",
      "execution_count": null,
      "metadata": {
        "id": "SivhVfeD9U4d"
      },
      "outputs": [],
      "source": [
        "import pandas as pd\n",
        "from sklearn.model_selection import train_test_split\n",
        "from sklearn.preprocessing import LabelEncoder\n",
        "from sklearn.svm import SVR\n",
        "from sklearn.metrics import mean_squared_error\n",
        "from sklearn.metrics import r2_score"
      ]
    },
    {
      "cell_type": "code",
      "source": [
        "data = pd.read_csv('/content/Dataset.csv')"
      ],
      "metadata": {
        "id": "df6L71pHByvI"
      },
      "execution_count": null,
      "outputs": []
    },
    {
      "cell_type": "code",
      "source": [
        "label_encoder = LabelEncoder()\n",
        "data['model'] = label_encoder.fit_transform(data['model'])\n",
        "data['year'] = label_encoder.fit_transform(data['year'])\n",
        "data['transmission'] = label_encoder.fit_transform(data['transmission'])\n",
        "data['fuelType'] = label_encoder.fit_transform(data['fuelType'])"
      ],
      "metadata": {
        "id": "FwCokFhuB3RA"
      },
      "execution_count": null,
      "outputs": []
    },
    {
      "cell_type": "code",
      "source": [
        "X = data[['model', 'year', 'transmission', 'mileage', 'fuelType', 'tax', 'mpg', 'engineSize']]\n",
        "y = data['price']\n",
        "X_train, X_test, y_train, y_test = train_test_split(X, y, test_size=0.2, random_state=42)"
      ],
      "metadata": {
        "id": "sLFo_2RGB_HY"
      },
      "execution_count": null,
      "outputs": []
    },
    {
      "cell_type": "code",
      "source": [
        "svr_model = SVR()\n",
        "svr_model.fit(X_train, y_train)"
      ],
      "metadata": {
        "id": "i-3hMH_8CCXw"
      },
      "execution_count": null,
      "outputs": []
    },
    {
      "cell_type": "code",
      "source": [
        "# Step 6: Make predictions on the testing set\n",
        "y_pred = svr_model.predict(X_test)\n",
        "\n",
        "# Step 7: Evaluate the model\n",
        "mse = mean_squared_error(y_test, y_pred)\n",
        "print(\"Mean Squared Error:\", mse)"
      ],
      "metadata": {
        "colab": {
          "base_uri": "https://localhost:8080/"
        },
        "id": "XHQclQoUDfqP",
        "outputId": "6d13c79f-e30a-4ffc-deb9-c844e38a45d3"
      },
      "execution_count": null,
      "outputs": [
        {
          "output_type": "stream",
          "name": "stdout",
          "text": [
            "Mean Squared Error: 70802746.10931762\n"
          ]
        }
      ]
    },
    {
      "cell_type": "code",
      "source": [
        "# Step 7: Calculate the accuracy (R-squared) of the model\n",
        "accuracy = r2_score(y_test, y_pred)\n",
        "print(\"Accuracy (R-squared):\", accuracy)"
      ],
      "metadata": {
        "colab": {
          "base_uri": "https://localhost:8080/"
        },
        "id": "_zNS6w2-D-OP",
        "outputId": "84fc5cd8-c409-48cb-e1e2-581bdcf79433"
      },
      "execution_count": null,
      "outputs": [
        {
          "output_type": "stream",
          "name": "stdout",
          "text": [
            "Accuracy (R-squared): 0.1518614932789082\n"
          ]
        }
      ]
    }
  ]
}