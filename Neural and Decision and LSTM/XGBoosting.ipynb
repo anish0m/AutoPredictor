{
  "nbformat": 4,
  "nbformat_minor": 0,
  "metadata": {
    "colab": {
      "provenance": []
    },
    "kernelspec": {
      "name": "python3",
      "display_name": "Python 3"
    },
    "language_info": {
      "name": "python"
    }
  },
  "cells": [
    {
      "cell_type": "code",
      "execution_count": 25,
      "metadata": {
        "id": "8dgZTLi2LT6h"
      },
      "outputs": [],
      "source": [
        "import pandas as pd\n",
        "from sklearn.model_selection import train_test_split\n",
        "from sklearn.preprocessing import LabelEncoder, OneHotEncoder\n",
        "from xgboost import XGBRegressor\n",
        "from sklearn.metrics import mean_squared_error, r2_score"
      ]
    },
    {
      "cell_type": "code",
      "source": [
        "# Load the dataset\n",
        "dataset = pd.read_csv('Dataset.csv')"
      ],
      "metadata": {
        "id": "WpntohZBLaEE"
      },
      "execution_count": 26,
      "outputs": []
    },
    {
      "cell_type": "code",
      "source": [
        "# Define x and y based on your dataset columns\n",
        "x = dataset[['model', 'year', 'transmission', 'mileage', 'fuelType', 'tax', 'mpg', 'engineSize']]\n",
        "y = dataset['price']"
      ],
      "metadata": {
        "id": "tfNRmN92Lcs3"
      },
      "execution_count": 27,
      "outputs": []
    },
    {
      "cell_type": "code",
      "source": [
        "# Perform label encoding on categorical columns\n",
        "label_encoder = LabelEncoder()\n",
        "for column in ['transmission', 'fuelType']:\n",
        "    x[column] = label_encoder.fit_transform(x[column])\n"
      ],
      "metadata": {
        "colab": {
          "base_uri": "https://localhost:8080/"
        },
        "id": "zXsIrPIkOacI",
        "outputId": "ac066920-08ef-4bfe-dc30-0ecbc02ba168"
      },
      "execution_count": 28,
      "outputs": [
        {
          "output_type": "stream",
          "name": "stderr",
          "text": [
            "<ipython-input-28-3aaa5731fb9f>:4: SettingWithCopyWarning: \n",
            "A value is trying to be set on a copy of a slice from a DataFrame.\n",
            "Try using .loc[row_indexer,col_indexer] = value instead\n",
            "\n",
            "See the caveats in the documentation: https://pandas.pydata.org/pandas-docs/stable/user_guide/indexing.html#returning-a-view-versus-a-copy\n",
            "  x[column] = label_encoder.fit_transform(x[column])\n",
            "<ipython-input-28-3aaa5731fb9f>:4: SettingWithCopyWarning: \n",
            "A value is trying to be set on a copy of a slice from a DataFrame.\n",
            "Try using .loc[row_indexer,col_indexer] = value instead\n",
            "\n",
            "See the caveats in the documentation: https://pandas.pydata.org/pandas-docs/stable/user_guide/indexing.html#returning-a-view-versus-a-copy\n",
            "  x[column] = label_encoder.fit_transform(x[column])\n"
          ]
        }
      ]
    },
    {
      "cell_type": "code",
      "source": [
        "# Perform one-hot encoding on categorical columns\n",
        "onehot_encoder = OneHotEncoder(sparse=False, drop='first')\n",
        "encoded_cols = onehot_encoder.fit_transform(x[['model']])\n",
        "encoded_df = pd.DataFrame(encoded_cols, columns=onehot_encoder.get_feature_names_out(['model']))\n",
        "x = pd.concat([x.drop(['model'], axis=1), encoded_df], axis=1)\n"
      ],
      "metadata": {
        "colab": {
          "base_uri": "https://localhost:8080/"
        },
        "id": "gipyuiTdTGrZ",
        "outputId": "10be838a-6295-48d5-d5c7-75fe9927a693"
      },
      "execution_count": 29,
      "outputs": [
        {
          "output_type": "stream",
          "name": "stderr",
          "text": [
            "/usr/local/lib/python3.10/dist-packages/sklearn/preprocessing/_encoders.py:868: FutureWarning: `sparse` was renamed to `sparse_output` in version 1.2 and will be removed in 1.4. `sparse_output` is ignored unless you leave `sparse` to its default value.\n",
            "  warnings.warn(\n"
          ]
        }
      ]
    },
    {
      "cell_type": "code",
      "source": [
        "# Split the data into train and test sets\n",
        "x_train, x_test, y_train, y_test = train_test_split(x, y, test_size=0.1, random_state=42)"
      ],
      "metadata": {
        "id": "dt5Ys_qGLfn8"
      },
      "execution_count": 30,
      "outputs": []
    },
    {
      "cell_type": "code",
      "source": [
        "# Create an XGBoost regressor model\n",
        "xgb_model = XGBRegressor()"
      ],
      "metadata": {
        "id": "042gwK71Lg-p"
      },
      "execution_count": 31,
      "outputs": []
    },
    {
      "cell_type": "code",
      "source": [
        "# Train the model\n",
        "xgb_model.fit(x_train, y_train)"
      ],
      "metadata": {
        "colab": {
          "base_uri": "https://localhost:8080/",
          "height": 248
        },
        "id": "Ftcf50kzLiqf",
        "outputId": "a9491001-1380-4f34-948c-252406aa5c4c"
      },
      "execution_count": 32,
      "outputs": [
        {
          "output_type": "execute_result",
          "data": {
            "text/plain": [
              "XGBRegressor(base_score=None, booster=None, callbacks=None,\n",
              "             colsample_bylevel=None, colsample_bynode=None,\n",
              "             colsample_bytree=None, early_stopping_rounds=None,\n",
              "             enable_categorical=False, eval_metric=None, feature_types=None,\n",
              "             gamma=None, gpu_id=None, grow_policy=None, importance_type=None,\n",
              "             interaction_constraints=None, learning_rate=None, max_bin=None,\n",
              "             max_cat_threshold=None, max_cat_to_onehot=None,\n",
              "             max_delta_step=None, max_depth=None, max_leaves=None,\n",
              "             min_child_weight=None, missing=nan, monotone_constraints=None,\n",
              "             n_estimators=100, n_jobs=None, num_parallel_tree=None,\n",
              "             predictor=None, random_state=None, ...)"
            ],
            "text/html": [
              "<style>#sk-container-id-3 {color: black;background-color: white;}#sk-container-id-3 pre{padding: 0;}#sk-container-id-3 div.sk-toggleable {background-color: white;}#sk-container-id-3 label.sk-toggleable__label {cursor: pointer;display: block;width: 100%;margin-bottom: 0;padding: 0.3em;box-sizing: border-box;text-align: center;}#sk-container-id-3 label.sk-toggleable__label-arrow:before {content: \"▸\";float: left;margin-right: 0.25em;color: #696969;}#sk-container-id-3 label.sk-toggleable__label-arrow:hover:before {color: black;}#sk-container-id-3 div.sk-estimator:hover label.sk-toggleable__label-arrow:before {color: black;}#sk-container-id-3 div.sk-toggleable__content {max-height: 0;max-width: 0;overflow: hidden;text-align: left;background-color: #f0f8ff;}#sk-container-id-3 div.sk-toggleable__content pre {margin: 0.2em;color: black;border-radius: 0.25em;background-color: #f0f8ff;}#sk-container-id-3 input.sk-toggleable__control:checked~div.sk-toggleable__content {max-height: 200px;max-width: 100%;overflow: auto;}#sk-container-id-3 input.sk-toggleable__control:checked~label.sk-toggleable__label-arrow:before {content: \"▾\";}#sk-container-id-3 div.sk-estimator input.sk-toggleable__control:checked~label.sk-toggleable__label {background-color: #d4ebff;}#sk-container-id-3 div.sk-label input.sk-toggleable__control:checked~label.sk-toggleable__label {background-color: #d4ebff;}#sk-container-id-3 input.sk-hidden--visually {border: 0;clip: rect(1px 1px 1px 1px);clip: rect(1px, 1px, 1px, 1px);height: 1px;margin: -1px;overflow: hidden;padding: 0;position: absolute;width: 1px;}#sk-container-id-3 div.sk-estimator {font-family: monospace;background-color: #f0f8ff;border: 1px dotted black;border-radius: 0.25em;box-sizing: border-box;margin-bottom: 0.5em;}#sk-container-id-3 div.sk-estimator:hover {background-color: #d4ebff;}#sk-container-id-3 div.sk-parallel-item::after {content: \"\";width: 100%;border-bottom: 1px solid gray;flex-grow: 1;}#sk-container-id-3 div.sk-label:hover label.sk-toggleable__label {background-color: #d4ebff;}#sk-container-id-3 div.sk-serial::before {content: \"\";position: absolute;border-left: 1px solid gray;box-sizing: border-box;top: 0;bottom: 0;left: 50%;z-index: 0;}#sk-container-id-3 div.sk-serial {display: flex;flex-direction: column;align-items: center;background-color: white;padding-right: 0.2em;padding-left: 0.2em;position: relative;}#sk-container-id-3 div.sk-item {position: relative;z-index: 1;}#sk-container-id-3 div.sk-parallel {display: flex;align-items: stretch;justify-content: center;background-color: white;position: relative;}#sk-container-id-3 div.sk-item::before, #sk-container-id-3 div.sk-parallel-item::before {content: \"\";position: absolute;border-left: 1px solid gray;box-sizing: border-box;top: 0;bottom: 0;left: 50%;z-index: -1;}#sk-container-id-3 div.sk-parallel-item {display: flex;flex-direction: column;z-index: 1;position: relative;background-color: white;}#sk-container-id-3 div.sk-parallel-item:first-child::after {align-self: flex-end;width: 50%;}#sk-container-id-3 div.sk-parallel-item:last-child::after {align-self: flex-start;width: 50%;}#sk-container-id-3 div.sk-parallel-item:only-child::after {width: 0;}#sk-container-id-3 div.sk-dashed-wrapped {border: 1px dashed gray;margin: 0 0.4em 0.5em 0.4em;box-sizing: border-box;padding-bottom: 0.4em;background-color: white;}#sk-container-id-3 div.sk-label label {font-family: monospace;font-weight: bold;display: inline-block;line-height: 1.2em;}#sk-container-id-3 div.sk-label-container {text-align: center;}#sk-container-id-3 div.sk-container {/* jupyter's `normalize.less` sets `[hidden] { display: none; }` but bootstrap.min.css set `[hidden] { display: none !important; }` so we also need the `!important` here to be able to override the default hidden behavior on the sphinx rendered scikit-learn.org. See: https://github.com/scikit-learn/scikit-learn/issues/21755 */display: inline-block !important;position: relative;}#sk-container-id-3 div.sk-text-repr-fallback {display: none;}</style><div id=\"sk-container-id-3\" class=\"sk-top-container\"><div class=\"sk-text-repr-fallback\"><pre>XGBRegressor(base_score=None, booster=None, callbacks=None,\n",
              "             colsample_bylevel=None, colsample_bynode=None,\n",
              "             colsample_bytree=None, early_stopping_rounds=None,\n",
              "             enable_categorical=False, eval_metric=None, feature_types=None,\n",
              "             gamma=None, gpu_id=None, grow_policy=None, importance_type=None,\n",
              "             interaction_constraints=None, learning_rate=None, max_bin=None,\n",
              "             max_cat_threshold=None, max_cat_to_onehot=None,\n",
              "             max_delta_step=None, max_depth=None, max_leaves=None,\n",
              "             min_child_weight=None, missing=nan, monotone_constraints=None,\n",
              "             n_estimators=100, n_jobs=None, num_parallel_tree=None,\n",
              "             predictor=None, random_state=None, ...)</pre><b>In a Jupyter environment, please rerun this cell to show the HTML representation or trust the notebook. <br />On GitHub, the HTML representation is unable to render, please try loading this page with nbviewer.org.</b></div><div class=\"sk-container\" hidden><div class=\"sk-item\"><div class=\"sk-estimator sk-toggleable\"><input class=\"sk-toggleable__control sk-hidden--visually\" id=\"sk-estimator-id-3\" type=\"checkbox\" checked><label for=\"sk-estimator-id-3\" class=\"sk-toggleable__label sk-toggleable__label-arrow\">XGBRegressor</label><div class=\"sk-toggleable__content\"><pre>XGBRegressor(base_score=None, booster=None, callbacks=None,\n",
              "             colsample_bylevel=None, colsample_bynode=None,\n",
              "             colsample_bytree=None, early_stopping_rounds=None,\n",
              "             enable_categorical=False, eval_metric=None, feature_types=None,\n",
              "             gamma=None, gpu_id=None, grow_policy=None, importance_type=None,\n",
              "             interaction_constraints=None, learning_rate=None, max_bin=None,\n",
              "             max_cat_threshold=None, max_cat_to_onehot=None,\n",
              "             max_delta_step=None, max_depth=None, max_leaves=None,\n",
              "             min_child_weight=None, missing=nan, monotone_constraints=None,\n",
              "             n_estimators=100, n_jobs=None, num_parallel_tree=None,\n",
              "             predictor=None, random_state=None, ...)</pre></div></div></div></div></div>"
            ]
          },
          "metadata": {},
          "execution_count": 32
        }
      ]
    },
    {
      "cell_type": "code",
      "source": [
        "# Make predictions on the test data\n",
        "y_pred = xgb_model.predict(x_test)"
      ],
      "metadata": {
        "id": "20eP4pmVLkLv"
      },
      "execution_count": 33,
      "outputs": []
    },
    {
      "cell_type": "code",
      "source": [
        "# Calculate initial MSE and R2 score\n",
        "initial_mse = mean_squared_error(y_test, y_pred)\n",
        "initial_r2 = r2_score(y_test, y_pred)"
      ],
      "metadata": {
        "id": "WFIhssQTLled"
      },
      "execution_count": 34,
      "outputs": []
    },
    {
      "cell_type": "code",
      "source": [
        "# Print the initial performance metrics\n",
        "print(\"Initial Performance Metrics:\")\n",
        "print(f\"Initial MSE: {initial_mse}\")\n",
        "print(f\"Initial R2 Score: {initial_r2}\")\n",
        "print()"
      ],
      "metadata": {
        "colab": {
          "base_uri": "https://localhost:8080/"
        },
        "id": "V4MJCrbeLnRG",
        "outputId": "061861d2-aa57-426b-9ee1-ed3903cc700f"
      },
      "execution_count": 35,
      "outputs": [
        {
          "output_type": "stream",
          "name": "stdout",
          "text": [
            "Initial Performance Metrics:\n",
            "Initial MSE: 3892578.2509560008\n",
            "Initial R2 Score: 0.9555562345285834\n",
            "\n"
          ]
        }
      ]
    },
    {
      "cell_type": "code",
      "source": [
        "# Iterate over each column and remove it to evaluate the impact on model performance\n",
        "for column in x.columns:\n",
        "    # Create a copy of x with the column removed\n",
        "    x_removed = x.drop(column, axis=1)\n",
        "\n",
        "    # Split the data into train and test sets\n",
        "    x_train, x_test, y_train, y_test = train_test_split(x_removed, y, test_size=0.1, random_state=42)\n",
        "\n",
        "    # Create an XGBoost regressor model\n",
        "    xgb_model = XGBRegressor()\n",
        "\n",
        "    # Train the model\n",
        "    xgb_model.fit(x_train, y_train)\n",
        "\n",
        "    # Make predictions on the test data\n",
        "    y_pred = xgb_model.predict(x_test)\n",
        "\n",
        "    # Calculate MSE and R2 score after removing the column\n",
        "    mse = mean_squared_error(y_test, y_pred)\n",
        "    r2 = r2_score(y_test, y_pred)\n",
        "\n",
        "    # Print the performance metrics\n",
        "    print(f\"Results after removing column '{column}':\")\n",
        "    print(f\"MSE: {mse}\")\n",
        "    print(f\"R2 Score: {r2}\")\n",
        "    print()"
      ],
      "metadata": {
        "colab": {
          "base_uri": "https://localhost:8080/"
        },
        "id": "lZWiri2oUv9U",
        "outputId": "731f6dd6-6cbb-4fbd-9d3c-eb97dd8e538d"
      },
      "execution_count": 24,
      "outputs": [
        {
          "output_type": "stream",
          "name": "stdout",
          "text": [
            "Results after removing column 'year':\n",
            "MSE: 5259198.908148516\n",
            "R2 Score: 0.9399527542487096\n",
            "\n",
            "Results after removing column 'transmission':\n",
            "MSE: 4152981.5833989913\n",
            "R2 Score: 0.9525830625358997\n",
            "\n",
            "Results after removing column 'mileage':\n",
            "MSE: 4531009.3186096195\n",
            "R2 Score: 0.9482669062707648\n",
            "\n",
            "Results after removing column 'fuelType':\n",
            "MSE: 4219650.465349184\n",
            "R2 Score: 0.9518218662380712\n",
            "\n",
            "Results after removing column 'tax':\n",
            "MSE: 3899355.5064264075\n",
            "R2 Score: 0.9554788547732521\n",
            "\n",
            "Results after removing column 'mpg':\n",
            "MSE: 8179270.580069813\n",
            "R2 Score: 0.9066126459246895\n",
            "\n",
            "Results after removing column 'engineSize':\n",
            "MSE: 6887500.53834752\n",
            "R2 Score: 0.9213615144318821\n",
            "\n",
            "Results after removing column 'model_ C-MAX':\n",
            "MSE: 3804881.354837014\n",
            "R2 Score: 0.9565575195464828\n",
            "\n",
            "Results after removing column 'model_ EcoSport':\n",
            "MSE: 3833423.0557114934\n",
            "R2 Score: 0.9562316428195322\n",
            "\n",
            "Results after removing column 'model_ Edge':\n",
            "MSE: 3828445.429526939\n",
            "R2 Score: 0.9562884751903898\n",
            "\n",
            "Results after removing column 'model_ Escort':\n",
            "MSE: 3892578.2509560008\n",
            "R2 Score: 0.9555562345285834\n",
            "\n",
            "Results after removing column 'model_ Fiesta':\n",
            "MSE: 3892935.715037861\n",
            "R2 Score: 0.9555521531591684\n",
            "\n",
            "Results after removing column 'model_ Focus':\n",
            "MSE: 3914283.8834772734\n",
            "R2 Score: 0.9553084090568803\n",
            "\n",
            "Results after removing column 'model_ Fusion':\n",
            "MSE: 3907233.2432018607\n",
            "R2 Score: 0.9553889102010119\n",
            "\n",
            "Results after removing column 'model_ Galaxy':\n",
            "MSE: 3853901.6495856503\n",
            "R2 Score: 0.9559978271414263\n",
            "\n",
            "Results after removing column 'model_ Grand C-MAX':\n",
            "MSE: 3856368.7443776727\n",
            "R2 Score: 0.9559696589261039\n",
            "\n",
            "Results after removing column 'model_ Grand Tourneo Connect':\n",
            "MSE: 3801453.7583185006\n",
            "R2 Score: 0.9565966543527675\n",
            "\n",
            "Results after removing column 'model_ KA':\n",
            "MSE: 3796566.391194029\n",
            "R2 Score: 0.9566524561849336\n",
            "\n",
            "Results after removing column 'model_ Ka+':\n",
            "MSE: 3852365.648121586\n",
            "R2 Score: 0.9560153645380903\n",
            "\n",
            "Results after removing column 'model_ Kuga':\n",
            "MSE: 3810351.6823396706\n",
            "R2 Score: 0.9564950617262655\n",
            "\n",
            "Results after removing column 'model_ Mondeo':\n",
            "MSE: 3911388.9162145527\n",
            "R2 Score: 0.9553414625339787\n",
            "\n",
            "Results after removing column 'model_ Mustang':\n",
            "MSE: 3832759.2107195244\n",
            "R2 Score: 0.9562392223129246\n",
            "\n",
            "Results after removing column 'model_ Puma':\n",
            "MSE: 3919655.525182948\n",
            "R2 Score: 0.9552470779881715\n",
            "\n",
            "Results after removing column 'model_ Ranger':\n",
            "MSE: 3892578.2509560008\n",
            "R2 Score: 0.9555562345285834\n",
            "\n",
            "Results after removing column 'model_ S-MAX':\n",
            "MSE: 3816232.5955857164\n",
            "R2 Score: 0.9564279160166061\n",
            "\n",
            "Results after removing column 'model_ Streetka':\n",
            "MSE: 3892578.2509560008\n",
            "R2 Score: 0.9555562345285834\n",
            "\n",
            "Results after removing column 'model_ Tourneo Connect':\n",
            "MSE: 3809041.1579888803\n",
            "R2 Score: 0.9565100247233168\n",
            "\n",
            "Results after removing column 'model_ Tourneo Custom':\n",
            "MSE: 3768580.655213663\n",
            "R2 Score: 0.9569719851465288\n",
            "\n",
            "Results after removing column 'model_ Transit Tourneo':\n",
            "MSE: 3892578.2509560008\n",
            "R2 Score: 0.9555562345285834\n",
            "\n",
            "Results after removing column 'model_BMW':\n",
            "MSE: 3972995.1262120605\n",
            "R2 Score: 0.9546380696225993\n",
            "\n",
            "Results after removing column 'model_Focus':\n",
            "MSE: 3892578.2509560008\n",
            "R2 Score: 0.9555562345285834\n",
            "\n",
            "Results after removing column 'model_Ford':\n",
            "MSE: 3900439.8289385852\n",
            "R2 Score: 0.9554664744504122\n",
            "\n",
            "Results after removing column 'model_Hyundai':\n",
            "MSE: 3856950.3811833803\n",
            "R2 Score: 0.9559630180500275\n",
            "\n",
            "Results after removing column 'model_audi':\n",
            "MSE: 4302614.536667781\n",
            "R2 Score: 0.9508746185552963\n",
            "\n",
            "Results after removing column 'model_skoda':\n",
            "MSE: 3860095.474182891\n",
            "R2 Score: 0.9559271087460535\n",
            "\n",
            "Results after removing column 'model_toyota':\n",
            "MSE: 3935510.779127159\n",
            "R2 Score: 0.9550660495945579\n",
            "\n",
            "Results after removing column 'model_vw':\n",
            "MSE: 3953267.76771928\n",
            "R2 Score: 0.9548633080218553\n",
            "\n"
          ]
        }
      ]
    }
  ]
}