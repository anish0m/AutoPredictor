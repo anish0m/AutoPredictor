{
 "cells": [
  {
   "cell_type": "code",
   "execution_count": 1,
   "id": "e7dec365",
   "metadata": {},
   "outputs": [],
   "source": [
    "import pandas as pd\n",
    "import numpy as np\n",
    "\n",
    "from sklearn.model_selection import train_test_split\n",
    "from sklearn import metrics\n",
    "from sklearn.metrics import mean_absolute_error\n",
    "\n",
    "from xgboost import XGBRegressor\n",
    "\n",
    "from sklearn.preprocessing import StandardScaler"
   ]
  },
  {
   "cell_type": "code",
   "execution_count": 2,
   "id": "3fd20a99",
   "metadata": {},
   "outputs": [],
   "source": [
    "dataset = pd.read_csv('Dataset.csv')"
   ]
  },
  {
   "cell_type": "code",
   "execution_count": 3,
   "id": "7e5b2ccf",
   "metadata": {},
   "outputs": [
    {
     "data": {
      "text/html": [
       "<div>\n",
       "<style scoped>\n",
       "    .dataframe tbody tr th:only-of-type {\n",
       "        vertical-align: middle;\n",
       "    }\n",
       "\n",
       "    .dataframe tbody tr th {\n",
       "        vertical-align: top;\n",
       "    }\n",
       "\n",
       "    .dataframe thead th {\n",
       "        text-align: right;\n",
       "    }\n",
       "</style>\n",
       "<table border=\"1\" class=\"dataframe\">\n",
       "  <thead>\n",
       "    <tr style=\"text-align: right;\">\n",
       "      <th></th>\n",
       "      <th>model</th>\n",
       "      <th>year</th>\n",
       "      <th>price</th>\n",
       "      <th>transmission</th>\n",
       "      <th>mileage</th>\n",
       "      <th>fuelType</th>\n",
       "      <th>tax</th>\n",
       "      <th>mpg</th>\n",
       "      <th>engineSize</th>\n",
       "    </tr>\n",
       "  </thead>\n",
       "  <tbody>\n",
       "    <tr>\n",
       "      <th>0</th>\n",
       "      <td>Fiesta</td>\n",
       "      <td>2017</td>\n",
       "      <td>12000</td>\n",
       "      <td>Automatic</td>\n",
       "      <td>15944</td>\n",
       "      <td>Petrol</td>\n",
       "      <td>150</td>\n",
       "      <td>57.7</td>\n",
       "      <td>1.0</td>\n",
       "    </tr>\n",
       "    <tr>\n",
       "      <th>1</th>\n",
       "      <td>Focus</td>\n",
       "      <td>2018</td>\n",
       "      <td>14000</td>\n",
       "      <td>Manual</td>\n",
       "      <td>9083</td>\n",
       "      <td>Petrol</td>\n",
       "      <td>150</td>\n",
       "      <td>57.7</td>\n",
       "      <td>1.0</td>\n",
       "    </tr>\n",
       "    <tr>\n",
       "      <th>2</th>\n",
       "      <td>Focus</td>\n",
       "      <td>2017</td>\n",
       "      <td>13000</td>\n",
       "      <td>Manual</td>\n",
       "      <td>12456</td>\n",
       "      <td>Petrol</td>\n",
       "      <td>150</td>\n",
       "      <td>57.7</td>\n",
       "      <td>1.0</td>\n",
       "    </tr>\n",
       "    <tr>\n",
       "      <th>3</th>\n",
       "      <td>Fiesta</td>\n",
       "      <td>2019</td>\n",
       "      <td>17500</td>\n",
       "      <td>Manual</td>\n",
       "      <td>10460</td>\n",
       "      <td>Petrol</td>\n",
       "      <td>145</td>\n",
       "      <td>40.3</td>\n",
       "      <td>1.5</td>\n",
       "    </tr>\n",
       "    <tr>\n",
       "      <th>4</th>\n",
       "      <td>Fiesta</td>\n",
       "      <td>2019</td>\n",
       "      <td>16500</td>\n",
       "      <td>Automatic</td>\n",
       "      <td>1482</td>\n",
       "      <td>Petrol</td>\n",
       "      <td>145</td>\n",
       "      <td>48.7</td>\n",
       "      <td>1.0</td>\n",
       "    </tr>\n",
       "    <tr>\n",
       "      <th>...</th>\n",
       "      <td>...</td>\n",
       "      <td>...</td>\n",
       "      <td>...</td>\n",
       "      <td>...</td>\n",
       "      <td>...</td>\n",
       "      <td>...</td>\n",
       "      <td>...</td>\n",
       "      <td>...</td>\n",
       "      <td>...</td>\n",
       "    </tr>\n",
       "    <tr>\n",
       "      <th>74995</th>\n",
       "      <td>BMW</td>\n",
       "      <td>2016</td>\n",
       "      <td>12998</td>\n",
       "      <td>Manual</td>\n",
       "      <td>20565</td>\n",
       "      <td>Diesel</td>\n",
       "      <td>0</td>\n",
       "      <td>74.3</td>\n",
       "      <td>1.5</td>\n",
       "    </tr>\n",
       "    <tr>\n",
       "      <th>74996</th>\n",
       "      <td>toyota</td>\n",
       "      <td>2017</td>\n",
       "      <td>6995</td>\n",
       "      <td>Manual</td>\n",
       "      <td>20564</td>\n",
       "      <td>Petrol</td>\n",
       "      <td>150</td>\n",
       "      <td>68.9</td>\n",
       "      <td>1.0</td>\n",
       "    </tr>\n",
       "    <tr>\n",
       "      <th>74997</th>\n",
       "      <td>Ford</td>\n",
       "      <td>2018</td>\n",
       "      <td>10990</td>\n",
       "      <td>Manual</td>\n",
       "      <td>20563</td>\n",
       "      <td>Petrol</td>\n",
       "      <td>145</td>\n",
       "      <td>65.7</td>\n",
       "      <td>1.0</td>\n",
       "    </tr>\n",
       "    <tr>\n",
       "      <th>74998</th>\n",
       "      <td>Ford</td>\n",
       "      <td>2017</td>\n",
       "      <td>7999</td>\n",
       "      <td>Manual</td>\n",
       "      <td>28907</td>\n",
       "      <td>Petrol</td>\n",
       "      <td>125</td>\n",
       "      <td>54.3</td>\n",
       "      <td>1.2</td>\n",
       "    </tr>\n",
       "    <tr>\n",
       "      <th>74999</th>\n",
       "      <td>Ford</td>\n",
       "      <td>2015</td>\n",
       "      <td>13583</td>\n",
       "      <td>Manual</td>\n",
       "      <td>21718</td>\n",
       "      <td>Diesel</td>\n",
       "      <td>20</td>\n",
       "      <td>67.3</td>\n",
       "      <td>2.0</td>\n",
       "    </tr>\n",
       "  </tbody>\n",
       "</table>\n",
       "<p>75000 rows × 9 columns</p>\n",
       "</div>"
      ],
      "text/plain": [
       "         model  year  price transmission  mileage fuelType  tax   mpg  \\\n",
       "0       Fiesta  2017  12000    Automatic    15944   Petrol  150  57.7   \n",
       "1        Focus  2018  14000       Manual     9083   Petrol  150  57.7   \n",
       "2        Focus  2017  13000       Manual    12456   Petrol  150  57.7   \n",
       "3       Fiesta  2019  17500       Manual    10460   Petrol  145  40.3   \n",
       "4       Fiesta  2019  16500    Automatic     1482   Petrol  145  48.7   \n",
       "...        ...   ...    ...          ...      ...      ...  ...   ...   \n",
       "74995      BMW  2016  12998       Manual    20565   Diesel    0  74.3   \n",
       "74996   toyota  2017   6995       Manual    20564   Petrol  150  68.9   \n",
       "74997     Ford  2018  10990       Manual    20563   Petrol  145  65.7   \n",
       "74998     Ford  2017   7999       Manual    28907   Petrol  125  54.3   \n",
       "74999     Ford  2015  13583       Manual    21718   Diesel   20  67.3   \n",
       "\n",
       "       engineSize  \n",
       "0             1.0  \n",
       "1             1.0  \n",
       "2             1.0  \n",
       "3             1.5  \n",
       "4             1.0  \n",
       "...           ...  \n",
       "74995         1.5  \n",
       "74996         1.0  \n",
       "74997         1.0  \n",
       "74998         1.2  \n",
       "74999         2.0  \n",
       "\n",
       "[75000 rows x 9 columns]"
      ]
     },
     "execution_count": 3,
     "metadata": {},
     "output_type": "execute_result"
    }
   ],
   "source": [
    "dataset"
   ]
  },
  {
   "cell_type": "code",
   "execution_count": 4,
   "id": "9e71451d",
   "metadata": {},
   "outputs": [
    {
     "data": {
      "text/plain": [
       "model           0\n",
       "year            0\n",
       "price           0\n",
       "transmission    0\n",
       "mileage         0\n",
       "fuelType        0\n",
       "tax             0\n",
       "mpg             0\n",
       "engineSize      0\n",
       "dtype: int64"
      ]
     },
     "execution_count": 4,
     "metadata": {},
     "output_type": "execute_result"
    }
   ],
   "source": [
    "dataset.isnull().sum()"
   ]
  },
  {
   "cell_type": "code",
   "execution_count": 5,
   "id": "41b7b8f1",
   "metadata": {},
   "outputs": [
    {
     "name": "stdout",
     "output_type": "stream",
     "text": [
      "['Automatic' 'Manual' 'Semi-Auto' 'Other']\n"
     ]
    }
   ],
   "source": [
    "print(dataset['transmission'].unique())"
   ]
  },
  {
   "cell_type": "code",
   "execution_count": 6,
   "id": "43ed56ff",
   "metadata": {},
   "outputs": [
    {
     "name": "stdout",
     "output_type": "stream",
     "text": [
      "['Petrol' 'Diesel' 'Hybrid' 'Electric' 'Other']\n"
     ]
    }
   ],
   "source": [
    "print(dataset['fuelType'].unique())"
   ]
  },
  {
   "cell_type": "code",
   "execution_count": 7,
   "id": "671128e6",
   "metadata": {},
   "outputs": [],
   "source": [
    "dataset.replace({'transmission' : {'Automatic' : 0, 'Manual' : 1, 'Semi-Auto' : 2, 'Other' : 3}}, inplace = True)"
   ]
  },
  {
   "cell_type": "code",
   "execution_count": 8,
   "id": "01169923",
   "metadata": {},
   "outputs": [],
   "source": [
    "dataset.replace({'fuelType' : {'Petrol' : 0, 'Diesel' : 1, 'Hybrid' : 2, 'Electric' : 3, 'Other' : 4}}, inplace = True)"
   ]
  },
  {
   "cell_type": "code",
   "execution_count": 9,
   "id": "796070fa",
   "metadata": {},
   "outputs": [
    {
     "data": {
      "text/html": [
       "<div>\n",
       "<style scoped>\n",
       "    .dataframe tbody tr th:only-of-type {\n",
       "        vertical-align: middle;\n",
       "    }\n",
       "\n",
       "    .dataframe tbody tr th {\n",
       "        vertical-align: top;\n",
       "    }\n",
       "\n",
       "    .dataframe thead th {\n",
       "        text-align: right;\n",
       "    }\n",
       "</style>\n",
       "<table border=\"1\" class=\"dataframe\">\n",
       "  <thead>\n",
       "    <tr style=\"text-align: right;\">\n",
       "      <th></th>\n",
       "      <th>model</th>\n",
       "      <th>year</th>\n",
       "      <th>price</th>\n",
       "      <th>transmission</th>\n",
       "      <th>mileage</th>\n",
       "      <th>fuelType</th>\n",
       "      <th>tax</th>\n",
       "      <th>mpg</th>\n",
       "      <th>engineSize</th>\n",
       "    </tr>\n",
       "  </thead>\n",
       "  <tbody>\n",
       "    <tr>\n",
       "      <th>0</th>\n",
       "      <td>Fiesta</td>\n",
       "      <td>2017</td>\n",
       "      <td>12000</td>\n",
       "      <td>0</td>\n",
       "      <td>15944</td>\n",
       "      <td>0</td>\n",
       "      <td>150</td>\n",
       "      <td>57.7</td>\n",
       "      <td>1.0</td>\n",
       "    </tr>\n",
       "    <tr>\n",
       "      <th>1</th>\n",
       "      <td>Focus</td>\n",
       "      <td>2018</td>\n",
       "      <td>14000</td>\n",
       "      <td>1</td>\n",
       "      <td>9083</td>\n",
       "      <td>0</td>\n",
       "      <td>150</td>\n",
       "      <td>57.7</td>\n",
       "      <td>1.0</td>\n",
       "    </tr>\n",
       "    <tr>\n",
       "      <th>2</th>\n",
       "      <td>Focus</td>\n",
       "      <td>2017</td>\n",
       "      <td>13000</td>\n",
       "      <td>1</td>\n",
       "      <td>12456</td>\n",
       "      <td>0</td>\n",
       "      <td>150</td>\n",
       "      <td>57.7</td>\n",
       "      <td>1.0</td>\n",
       "    </tr>\n",
       "    <tr>\n",
       "      <th>3</th>\n",
       "      <td>Fiesta</td>\n",
       "      <td>2019</td>\n",
       "      <td>17500</td>\n",
       "      <td>1</td>\n",
       "      <td>10460</td>\n",
       "      <td>0</td>\n",
       "      <td>145</td>\n",
       "      <td>40.3</td>\n",
       "      <td>1.5</td>\n",
       "    </tr>\n",
       "    <tr>\n",
       "      <th>4</th>\n",
       "      <td>Fiesta</td>\n",
       "      <td>2019</td>\n",
       "      <td>16500</td>\n",
       "      <td>0</td>\n",
       "      <td>1482</td>\n",
       "      <td>0</td>\n",
       "      <td>145</td>\n",
       "      <td>48.7</td>\n",
       "      <td>1.0</td>\n",
       "    </tr>\n",
       "    <tr>\n",
       "      <th>...</th>\n",
       "      <td>...</td>\n",
       "      <td>...</td>\n",
       "      <td>...</td>\n",
       "      <td>...</td>\n",
       "      <td>...</td>\n",
       "      <td>...</td>\n",
       "      <td>...</td>\n",
       "      <td>...</td>\n",
       "      <td>...</td>\n",
       "    </tr>\n",
       "    <tr>\n",
       "      <th>74995</th>\n",
       "      <td>BMW</td>\n",
       "      <td>2016</td>\n",
       "      <td>12998</td>\n",
       "      <td>1</td>\n",
       "      <td>20565</td>\n",
       "      <td>1</td>\n",
       "      <td>0</td>\n",
       "      <td>74.3</td>\n",
       "      <td>1.5</td>\n",
       "    </tr>\n",
       "    <tr>\n",
       "      <th>74996</th>\n",
       "      <td>toyota</td>\n",
       "      <td>2017</td>\n",
       "      <td>6995</td>\n",
       "      <td>1</td>\n",
       "      <td>20564</td>\n",
       "      <td>0</td>\n",
       "      <td>150</td>\n",
       "      <td>68.9</td>\n",
       "      <td>1.0</td>\n",
       "    </tr>\n",
       "    <tr>\n",
       "      <th>74997</th>\n",
       "      <td>Ford</td>\n",
       "      <td>2018</td>\n",
       "      <td>10990</td>\n",
       "      <td>1</td>\n",
       "      <td>20563</td>\n",
       "      <td>0</td>\n",
       "      <td>145</td>\n",
       "      <td>65.7</td>\n",
       "      <td>1.0</td>\n",
       "    </tr>\n",
       "    <tr>\n",
       "      <th>74998</th>\n",
       "      <td>Ford</td>\n",
       "      <td>2017</td>\n",
       "      <td>7999</td>\n",
       "      <td>1</td>\n",
       "      <td>28907</td>\n",
       "      <td>0</td>\n",
       "      <td>125</td>\n",
       "      <td>54.3</td>\n",
       "      <td>1.2</td>\n",
       "    </tr>\n",
       "    <tr>\n",
       "      <th>74999</th>\n",
       "      <td>Ford</td>\n",
       "      <td>2015</td>\n",
       "      <td>13583</td>\n",
       "      <td>1</td>\n",
       "      <td>21718</td>\n",
       "      <td>1</td>\n",
       "      <td>20</td>\n",
       "      <td>67.3</td>\n",
       "      <td>2.0</td>\n",
       "    </tr>\n",
       "  </tbody>\n",
       "</table>\n",
       "<p>75000 rows × 9 columns</p>\n",
       "</div>"
      ],
      "text/plain": [
       "         model  year  price  transmission  mileage  fuelType  tax   mpg  \\\n",
       "0       Fiesta  2017  12000             0    15944         0  150  57.7   \n",
       "1        Focus  2018  14000             1     9083         0  150  57.7   \n",
       "2        Focus  2017  13000             1    12456         0  150  57.7   \n",
       "3       Fiesta  2019  17500             1    10460         0  145  40.3   \n",
       "4       Fiesta  2019  16500             0     1482         0  145  48.7   \n",
       "...        ...   ...    ...           ...      ...       ...  ...   ...   \n",
       "74995      BMW  2016  12998             1    20565         1    0  74.3   \n",
       "74996   toyota  2017   6995             1    20564         0  150  68.9   \n",
       "74997     Ford  2018  10990             1    20563         0  145  65.7   \n",
       "74998     Ford  2017   7999             1    28907         0  125  54.3   \n",
       "74999     Ford  2015  13583             1    21718         1   20  67.3   \n",
       "\n",
       "       engineSize  \n",
       "0             1.0  \n",
       "1             1.0  \n",
       "2             1.0  \n",
       "3             1.5  \n",
       "4             1.0  \n",
       "...           ...  \n",
       "74995         1.5  \n",
       "74996         1.0  \n",
       "74997         1.0  \n",
       "74998         1.2  \n",
       "74999         2.0  \n",
       "\n",
       "[75000 rows x 9 columns]"
      ]
     },
     "execution_count": 9,
     "metadata": {},
     "output_type": "execute_result"
    }
   ],
   "source": [
    "dataset"
   ]
  },
  {
   "cell_type": "code",
   "execution_count": 10,
   "id": "98661019",
   "metadata": {},
   "outputs": [],
   "source": [
    "x = dataset.drop(['model', 'price'], axis=1).values\n",
    "y = dataset['price']"
   ]
  },
  {
   "cell_type": "code",
   "execution_count": 11,
   "id": "946f9ec3",
   "metadata": {},
   "outputs": [
    {
     "data": {
      "text/plain": [
       "array([[2.0170e+03, 0.0000e+00, 1.5944e+04, ..., 1.5000e+02, 5.7700e+01,\n",
       "        1.0000e+00],\n",
       "       [2.0180e+03, 1.0000e+00, 9.0830e+03, ..., 1.5000e+02, 5.7700e+01,\n",
       "        1.0000e+00],\n",
       "       [2.0170e+03, 1.0000e+00, 1.2456e+04, ..., 1.5000e+02, 5.7700e+01,\n",
       "        1.0000e+00],\n",
       "       ...,\n",
       "       [2.0180e+03, 1.0000e+00, 2.0563e+04, ..., 1.4500e+02, 6.5700e+01,\n",
       "        1.0000e+00],\n",
       "       [2.0170e+03, 1.0000e+00, 2.8907e+04, ..., 1.2500e+02, 5.4300e+01,\n",
       "        1.2000e+00],\n",
       "       [2.0150e+03, 1.0000e+00, 2.1718e+04, ..., 2.0000e+01, 6.7300e+01,\n",
       "        2.0000e+00]])"
      ]
     },
     "execution_count": 11,
     "metadata": {},
     "output_type": "execute_result"
    }
   ],
   "source": [
    "x"
   ]
  },
  {
   "cell_type": "code",
   "execution_count": 12,
   "id": "a4a01839",
   "metadata": {},
   "outputs": [
    {
     "data": {
      "text/plain": [
       "0        12000\n",
       "1        14000\n",
       "2        13000\n",
       "3        17500\n",
       "4        16500\n",
       "         ...  \n",
       "74995    12998\n",
       "74996     6995\n",
       "74997    10990\n",
       "74998     7999\n",
       "74999    13583\n",
       "Name: price, Length: 75000, dtype: int64"
      ]
     },
     "execution_count": 12,
     "metadata": {},
     "output_type": "execute_result"
    }
   ],
   "source": [
    "y"
   ]
  },
  {
   "cell_type": "code",
   "execution_count": 13,
   "id": "11bc183d",
   "metadata": {},
   "outputs": [
    {
     "data": {
      "text/html": [
       "<style>#sk-container-id-1 {color: black;background-color: white;}#sk-container-id-1 pre{padding: 0;}#sk-container-id-1 div.sk-toggleable {background-color: white;}#sk-container-id-1 label.sk-toggleable__label {cursor: pointer;display: block;width: 100%;margin-bottom: 0;padding: 0.3em;box-sizing: border-box;text-align: center;}#sk-container-id-1 label.sk-toggleable__label-arrow:before {content: \"▸\";float: left;margin-right: 0.25em;color: #696969;}#sk-container-id-1 label.sk-toggleable__label-arrow:hover:before {color: black;}#sk-container-id-1 div.sk-estimator:hover label.sk-toggleable__label-arrow:before {color: black;}#sk-container-id-1 div.sk-toggleable__content {max-height: 0;max-width: 0;overflow: hidden;text-align: left;background-color: #f0f8ff;}#sk-container-id-1 div.sk-toggleable__content pre {margin: 0.2em;color: black;border-radius: 0.25em;background-color: #f0f8ff;}#sk-container-id-1 input.sk-toggleable__control:checked~div.sk-toggleable__content {max-height: 200px;max-width: 100%;overflow: auto;}#sk-container-id-1 input.sk-toggleable__control:checked~label.sk-toggleable__label-arrow:before {content: \"▾\";}#sk-container-id-1 div.sk-estimator input.sk-toggleable__control:checked~label.sk-toggleable__label {background-color: #d4ebff;}#sk-container-id-1 div.sk-label input.sk-toggleable__control:checked~label.sk-toggleable__label {background-color: #d4ebff;}#sk-container-id-1 input.sk-hidden--visually {border: 0;clip: rect(1px 1px 1px 1px);clip: rect(1px, 1px, 1px, 1px);height: 1px;margin: -1px;overflow: hidden;padding: 0;position: absolute;width: 1px;}#sk-container-id-1 div.sk-estimator {font-family: monospace;background-color: #f0f8ff;border: 1px dotted black;border-radius: 0.25em;box-sizing: border-box;margin-bottom: 0.5em;}#sk-container-id-1 div.sk-estimator:hover {background-color: #d4ebff;}#sk-container-id-1 div.sk-parallel-item::after {content: \"\";width: 100%;border-bottom: 1px solid gray;flex-grow: 1;}#sk-container-id-1 div.sk-label:hover label.sk-toggleable__label {background-color: #d4ebff;}#sk-container-id-1 div.sk-serial::before {content: \"\";position: absolute;border-left: 1px solid gray;box-sizing: border-box;top: 0;bottom: 0;left: 50%;z-index: 0;}#sk-container-id-1 div.sk-serial {display: flex;flex-direction: column;align-items: center;background-color: white;padding-right: 0.2em;padding-left: 0.2em;position: relative;}#sk-container-id-1 div.sk-item {position: relative;z-index: 1;}#sk-container-id-1 div.sk-parallel {display: flex;align-items: stretch;justify-content: center;background-color: white;position: relative;}#sk-container-id-1 div.sk-item::before, #sk-container-id-1 div.sk-parallel-item::before {content: \"\";position: absolute;border-left: 1px solid gray;box-sizing: border-box;top: 0;bottom: 0;left: 50%;z-index: -1;}#sk-container-id-1 div.sk-parallel-item {display: flex;flex-direction: column;z-index: 1;position: relative;background-color: white;}#sk-container-id-1 div.sk-parallel-item:first-child::after {align-self: flex-end;width: 50%;}#sk-container-id-1 div.sk-parallel-item:last-child::after {align-self: flex-start;width: 50%;}#sk-container-id-1 div.sk-parallel-item:only-child::after {width: 0;}#sk-container-id-1 div.sk-dashed-wrapped {border: 1px dashed gray;margin: 0 0.4em 0.5em 0.4em;box-sizing: border-box;padding-bottom: 0.4em;background-color: white;}#sk-container-id-1 div.sk-label label {font-family: monospace;font-weight: bold;display: inline-block;line-height: 1.2em;}#sk-container-id-1 div.sk-label-container {text-align: center;}#sk-container-id-1 div.sk-container {/* jupyter's `normalize.less` sets `[hidden] { display: none; }` but bootstrap.min.css set `[hidden] { display: none !important; }` so we also need the `!important` here to be able to override the default hidden behavior on the sphinx rendered scikit-learn.org. See: https://github.com/scikit-learn/scikit-learn/issues/21755 */display: inline-block !important;position: relative;}#sk-container-id-1 div.sk-text-repr-fallback {display: none;}</style><div id=\"sk-container-id-1\" class=\"sk-top-container\"><div class=\"sk-text-repr-fallback\"><pre>StandardScaler()</pre><b>In a Jupyter environment, please rerun this cell to show the HTML representation or trust the notebook. <br />On GitHub, the HTML representation is unable to render, please try loading this page with nbviewer.org.</b></div><div class=\"sk-container\" hidden><div class=\"sk-item\"><div class=\"sk-estimator sk-toggleable\"><input class=\"sk-toggleable__control sk-hidden--visually\" id=\"sk-estimator-id-1\" type=\"checkbox\" checked><label for=\"sk-estimator-id-1\" class=\"sk-toggleable__label sk-toggleable__label-arrow\">StandardScaler</label><div class=\"sk-toggleable__content\"><pre>StandardScaler()</pre></div></div></div></div></div>"
      ],
      "text/plain": [
       "StandardScaler()"
      ]
     },
     "execution_count": 13,
     "metadata": {},
     "output_type": "execute_result"
    }
   ],
   "source": [
    "scaler = StandardScaler()\n",
    "scaler.fit(x)"
   ]
  },
  {
   "cell_type": "code",
   "execution_count": 14,
   "id": "21a19ea2",
   "metadata": {},
   "outputs": [
    {
     "data": {
      "text/plain": [
       "array([[-0.03009016, -1.62040435, -0.3236475 , ...,  0.54647325,\n",
       "         0.08894775, -1.05036414],\n",
       "       [ 0.42117195,  0.14970396, -0.63186376, ...,  0.54647325,\n",
       "         0.08894775, -1.05036414],\n",
       "       [-0.03009016,  0.14970396, -0.4803387 , ...,  0.54647325,\n",
       "         0.08894775, -1.05036414],\n",
       "       ...,\n",
       "       [ 0.42117195,  0.14970396, -0.11614846, ...,  0.46797767,\n",
       "         0.5690561 , -1.05036414],\n",
       "       [-0.03009016,  0.14970396,  0.25868851, ...,  0.15399535,\n",
       "        -0.11509829, -0.68069377],\n",
       "       [-0.93261437,  0.14970396, -0.06426247, ..., -1.49441184,\n",
       "         0.66507777,  0.79798771]])"
      ]
     },
     "execution_count": 14,
     "metadata": {},
     "output_type": "execute_result"
    }
   ],
   "source": [
    "standardized_x = scaler.transform(x)\n",
    "standardized_x"
   ]
  },
  {
   "cell_type": "code",
   "execution_count": 15,
   "id": "59e03d61",
   "metadata": {},
   "outputs": [],
   "source": [
    "x = standardized_x\n",
    "y = dataset['price']"
   ]
  },
  {
   "cell_type": "code",
   "execution_count": 16,
   "id": "a35dc60b",
   "metadata": {},
   "outputs": [
    {
     "name": "stdout",
     "output_type": "stream",
     "text": [
      "(75000, 7) (67500, 7) (7500, 7)\n",
      "(75000,) (67500,) (7500,)\n"
     ]
    }
   ],
   "source": [
    "x_train, x_test, y_train, y_test = train_test_split(x, y, test_size=.1, random_state=42)\n",
    "\n",
    "print(x.shape, x_train.shape, x_test.shape)\n",
    "print(y.shape, y_train.shape, y_test.shape)"
   ]
  },
  {
   "cell_type": "code",
   "execution_count": 17,
   "id": "027206a2",
   "metadata": {},
   "outputs": [],
   "source": [
    "xgb_model = XGBRegressor()"
   ]
  },
  {
   "cell_type": "code",
   "execution_count": 18,
   "id": "485b0a34",
   "metadata": {},
   "outputs": [
    {
     "data": {
      "text/html": [
       "<style>#sk-container-id-2 {color: black;background-color: white;}#sk-container-id-2 pre{padding: 0;}#sk-container-id-2 div.sk-toggleable {background-color: white;}#sk-container-id-2 label.sk-toggleable__label {cursor: pointer;display: block;width: 100%;margin-bottom: 0;padding: 0.3em;box-sizing: border-box;text-align: center;}#sk-container-id-2 label.sk-toggleable__label-arrow:before {content: \"▸\";float: left;margin-right: 0.25em;color: #696969;}#sk-container-id-2 label.sk-toggleable__label-arrow:hover:before {color: black;}#sk-container-id-2 div.sk-estimator:hover label.sk-toggleable__label-arrow:before {color: black;}#sk-container-id-2 div.sk-toggleable__content {max-height: 0;max-width: 0;overflow: hidden;text-align: left;background-color: #f0f8ff;}#sk-container-id-2 div.sk-toggleable__content pre {margin: 0.2em;color: black;border-radius: 0.25em;background-color: #f0f8ff;}#sk-container-id-2 input.sk-toggleable__control:checked~div.sk-toggleable__content {max-height: 200px;max-width: 100%;overflow: auto;}#sk-container-id-2 input.sk-toggleable__control:checked~label.sk-toggleable__label-arrow:before {content: \"▾\";}#sk-container-id-2 div.sk-estimator input.sk-toggleable__control:checked~label.sk-toggleable__label {background-color: #d4ebff;}#sk-container-id-2 div.sk-label input.sk-toggleable__control:checked~label.sk-toggleable__label {background-color: #d4ebff;}#sk-container-id-2 input.sk-hidden--visually {border: 0;clip: rect(1px 1px 1px 1px);clip: rect(1px, 1px, 1px, 1px);height: 1px;margin: -1px;overflow: hidden;padding: 0;position: absolute;width: 1px;}#sk-container-id-2 div.sk-estimator {font-family: monospace;background-color: #f0f8ff;border: 1px dotted black;border-radius: 0.25em;box-sizing: border-box;margin-bottom: 0.5em;}#sk-container-id-2 div.sk-estimator:hover {background-color: #d4ebff;}#sk-container-id-2 div.sk-parallel-item::after {content: \"\";width: 100%;border-bottom: 1px solid gray;flex-grow: 1;}#sk-container-id-2 div.sk-label:hover label.sk-toggleable__label {background-color: #d4ebff;}#sk-container-id-2 div.sk-serial::before {content: \"\";position: absolute;border-left: 1px solid gray;box-sizing: border-box;top: 0;bottom: 0;left: 50%;z-index: 0;}#sk-container-id-2 div.sk-serial {display: flex;flex-direction: column;align-items: center;background-color: white;padding-right: 0.2em;padding-left: 0.2em;position: relative;}#sk-container-id-2 div.sk-item {position: relative;z-index: 1;}#sk-container-id-2 div.sk-parallel {display: flex;align-items: stretch;justify-content: center;background-color: white;position: relative;}#sk-container-id-2 div.sk-item::before, #sk-container-id-2 div.sk-parallel-item::before {content: \"\";position: absolute;border-left: 1px solid gray;box-sizing: border-box;top: 0;bottom: 0;left: 50%;z-index: -1;}#sk-container-id-2 div.sk-parallel-item {display: flex;flex-direction: column;z-index: 1;position: relative;background-color: white;}#sk-container-id-2 div.sk-parallel-item:first-child::after {align-self: flex-end;width: 50%;}#sk-container-id-2 div.sk-parallel-item:last-child::after {align-self: flex-start;width: 50%;}#sk-container-id-2 div.sk-parallel-item:only-child::after {width: 0;}#sk-container-id-2 div.sk-dashed-wrapped {border: 1px dashed gray;margin: 0 0.4em 0.5em 0.4em;box-sizing: border-box;padding-bottom: 0.4em;background-color: white;}#sk-container-id-2 div.sk-label label {font-family: monospace;font-weight: bold;display: inline-block;line-height: 1.2em;}#sk-container-id-2 div.sk-label-container {text-align: center;}#sk-container-id-2 div.sk-container {/* jupyter's `normalize.less` sets `[hidden] { display: none; }` but bootstrap.min.css set `[hidden] { display: none !important; }` so we also need the `!important` here to be able to override the default hidden behavior on the sphinx rendered scikit-learn.org. See: https://github.com/scikit-learn/scikit-learn/issues/21755 */display: inline-block !important;position: relative;}#sk-container-id-2 div.sk-text-repr-fallback {display: none;}</style><div id=\"sk-container-id-2\" class=\"sk-top-container\"><div class=\"sk-text-repr-fallback\"><pre>XGBRegressor(base_score=None, booster=None, callbacks=None,\n",
       "             colsample_bylevel=None, colsample_bynode=None,\n",
       "             colsample_bytree=None, early_stopping_rounds=None,\n",
       "             enable_categorical=False, eval_metric=None, feature_types=None,\n",
       "             gamma=None, gpu_id=None, grow_policy=None, importance_type=None,\n",
       "             interaction_constraints=None, learning_rate=None, max_bin=None,\n",
       "             max_cat_threshold=None, max_cat_to_onehot=None,\n",
       "             max_delta_step=None, max_depth=None, max_leaves=None,\n",
       "             min_child_weight=None, missing=nan, monotone_constraints=None,\n",
       "             n_estimators=100, n_jobs=None, num_parallel_tree=None,\n",
       "             predictor=None, random_state=None, ...)</pre><b>In a Jupyter environment, please rerun this cell to show the HTML representation or trust the notebook. <br />On GitHub, the HTML representation is unable to render, please try loading this page with nbviewer.org.</b></div><div class=\"sk-container\" hidden><div class=\"sk-item\"><div class=\"sk-estimator sk-toggleable\"><input class=\"sk-toggleable__control sk-hidden--visually\" id=\"sk-estimator-id-2\" type=\"checkbox\" checked><label for=\"sk-estimator-id-2\" class=\"sk-toggleable__label sk-toggleable__label-arrow\">XGBRegressor</label><div class=\"sk-toggleable__content\"><pre>XGBRegressor(base_score=None, booster=None, callbacks=None,\n",
       "             colsample_bylevel=None, colsample_bynode=None,\n",
       "             colsample_bytree=None, early_stopping_rounds=None,\n",
       "             enable_categorical=False, eval_metric=None, feature_types=None,\n",
       "             gamma=None, gpu_id=None, grow_policy=None, importance_type=None,\n",
       "             interaction_constraints=None, learning_rate=None, max_bin=None,\n",
       "             max_cat_threshold=None, max_cat_to_onehot=None,\n",
       "             max_delta_step=None, max_depth=None, max_leaves=None,\n",
       "             min_child_weight=None, missing=nan, monotone_constraints=None,\n",
       "             n_estimators=100, n_jobs=None, num_parallel_tree=None,\n",
       "             predictor=None, random_state=None, ...)</pre></div></div></div></div></div>"
      ],
      "text/plain": [
       "XGBRegressor(base_score=None, booster=None, callbacks=None,\n",
       "             colsample_bylevel=None, colsample_bynode=None,\n",
       "             colsample_bytree=None, early_stopping_rounds=None,\n",
       "             enable_categorical=False, eval_metric=None, feature_types=None,\n",
       "             gamma=None, gpu_id=None, grow_policy=None, importance_type=None,\n",
       "             interaction_constraints=None, learning_rate=None, max_bin=None,\n",
       "             max_cat_threshold=None, max_cat_to_onehot=None,\n",
       "             max_delta_step=None, max_depth=None, max_leaves=None,\n",
       "             min_child_weight=None, missing=nan, monotone_constraints=None,\n",
       "             n_estimators=100, n_jobs=None, num_parallel_tree=None,\n",
       "             predictor=None, random_state=None, ...)"
      ]
     },
     "execution_count": 18,
     "metadata": {},
     "output_type": "execute_result"
    }
   ],
   "source": [
    "xgb_model.fit(x_train, y_train)"
   ]
  },
  {
   "cell_type": "code",
   "execution_count": 19,
   "id": "f003d510",
   "metadata": {},
   "outputs": [
    {
     "name": "stdout",
     "output_type": "stream",
     "text": [
      "Score on training data :  0.9433386692076354\n",
      "Mean absolute error on training data :  1488.0344786512587\n"
     ]
    }
   ],
   "source": [
    "training_data_pred = xgb_model.predict(x_train)\n",
    "\n",
    "score_train = metrics.r2_score(y_train, training_data_pred)\n",
    "mean_abs_error = metrics.mean_absolute_error(y_train, training_data_pred)\n",
    "\n",
    "print('Score on training data : ', score_train)\n",
    "print('Mean absolute error on training data : ', mean_abs_error)"
   ]
  },
  {
   "cell_type": "code",
   "execution_count": 20,
   "id": "9e48b363",
   "metadata": {},
   "outputs": [
    {
     "name": "stdout",
     "output_type": "stream",
     "text": [
      "Score on test data :  0.9360363090230093\n",
      "Mean absolute error on test data :  1605.0523907552083\n"
     ]
    }
   ],
   "source": [
    "test_data_pred = xgb_model.predict(x_test)\n",
    "\n",
    "score_test = metrics.r2_score(y_test, test_data_pred)\n",
    "mean_abs_error = metrics.mean_absolute_error(y_test, test_data_pred)\n",
    "\n",
    "print('Score on test data : ', score_test)\n",
    "print('Mean absolute error on test data : ', mean_abs_error)"
   ]
  },
  {
   "cell_type": "code",
   "execution_count": 21,
   "id": "951bc98d",
   "metadata": {},
   "outputs": [
    {
     "name": "stdout",
     "output_type": "stream",
     "text": [
      "[17605.312]\n",
      "This car price estimation is :  [17605.312]\n"
     ]
    }
   ],
   "source": [
    "input_data = (2019, 1, 10460, 0, 145, 40.3, 1.5)\n",
    "\n",
    "input_changed = np.array(input_data).reshape(1, -1)\n",
    "\n",
    "std_input = scaler.transform(input_changed)\n",
    "prediction = xgb_model.predict(std_input)\n",
    "\n",
    "print(prediction)\n",
    "\n",
    "print('This car price estimation is : ', prediction)"
   ]
  },
  {
   "cell_type": "code",
   "execution_count": 22,
   "id": "1ab433c7",
   "metadata": {},
   "outputs": [],
   "source": [
    "import joblib"
   ]
  },
  {
   "cell_type": "code",
   "execution_count": 23,
   "id": "8249213b",
   "metadata": {},
   "outputs": [
    {
     "data": {
      "text/plain": [
       "['scaler.pkl']"
      ]
     },
     "execution_count": 23,
     "metadata": {},
     "output_type": "execute_result"
    }
   ],
   "source": [
    "joblib.dump(xgb_model, 'xgb_model.pkl')\n",
    "joblib.dump(scaler, 'scaler.pkl')"
   ]
  },
  {
   "cell_type": "code",
   "execution_count": 24,
   "id": "3d561f12",
   "metadata": {},
   "outputs": [],
   "source": [
    "from sklearn.metrics import r2_score\n",
    "import matplotlib.pyplot as plt"
   ]
  },
  {
   "cell_type": "code",
   "execution_count": 25,
   "id": "f652b3a6",
   "metadata": {},
   "outputs": [
    {
     "name": "stdout",
     "output_type": "stream",
     "text": [
      "R2 Score: 0.9360363090230093\n"
     ]
    }
   ],
   "source": [
    "r2 = r2_score(y_test, test_data_pred)\n",
    "print(\"R2 Score:\", r2)"
   ]
  },
  {
   "cell_type": "code",
   "execution_count": 26,
   "id": "32965685",
   "metadata": {},
   "outputs": [
    {
     "data": {
      "image/png": "[encoded data removed]",
      "text/plain": [
       "<Figure size 640x480 with 1 Axes>"
      ]
     },
     "metadata": {},
     "output_type": "display_data"
    }
   ],
   "source": [
    "plt.scatter(y_test, test_data_pred, alpha=0.5)\n",
    "plt.xlabel(\"Real Price\")\n",
    "plt.ylabel(\"Predicted Price\")\n",
    "plt.title(\"Real vs Predicted Prices\")\n",
    "plt.show()"
   ]
  },
  {
   "cell_type": "code",
   "execution_count": 27,
   "id": "5ad74917",
   "metadata": {},
   "outputs": [
    {
     "name": "stdout",
     "output_type": "stream",
     "text": [
      "Score on test data :  0.9360363090230093\n",
      "Mean absolute error on test data :  1605.0523907552083\n"
     ]
    }
   ],
   "source": [
    "test_data_pred = xgb_model.predict(x_test)\n",
    "\n",
    "score_test = metrics.r2_score(y_test, test_data_pred)\n",
    "mean_abs_error = metrics.mean_absolute_error(y_test, test_data_pred)\n",
    "\n",
    "print('Score on test data : ', score_test)\n",
    "print('Mean absolute error on test data : ', mean_abs_error)"
   ]
  },
  {
   "cell_type": "code",
   "execution_count": null,
   "id": "e2f40fcd",
   "metadata": {},
   "outputs": [],
   "source": []
  }
 ],
 "metadata": {
  "kernelspec": {
   "display_name": "Python 3 (ipykernel)",
   "language": "python",
   "name": "python3"
  },
  "language_info": {
   "codemirror_mode": {
    "name": "ipython",
    "version": 3
   },
   "file_extension": ".py",
   "mimetype": "text/x-python",
   "name": "python",
   "nbconvert_exporter": "python",
   "pygments_lexer": "ipython3",
   "version": "3.10.11"
  }
 },
 "nbformat": 4,
 "nbformat_minor": 5
}
